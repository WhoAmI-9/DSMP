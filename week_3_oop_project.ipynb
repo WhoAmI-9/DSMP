{
  "nbformat": 4,
  "nbformat_minor": 0,
  "metadata": {
    "colab": {
      "provenance": []
    },
    "kernelspec": {
      "name": "python3",
      "display_name": "Python 3"
    },
    "language_info": {
      "name": "python"
    }
  },
  "cells": [
    {
      "cell_type": "code",
      "execution_count": null,
      "metadata": {
        "colab": {
          "base_uri": "https://localhost:8080/"
        },
        "id": "Gl9J7QEoadfi",
        "outputId": "0262d333-0158-4ec3-e7ca-30f74a4a4996"
      },
      "outputs": [
        {
          "output_type": "execute_result",
          "data": {
            "text/plain": [
              "{'entities': [{'start': 26,\n",
              "   'end': 36,\n",
              "   'type': 'programming languages',\n",
              "   'text': 'javascript'},\n",
              "  {'start': 102,\n",
              "   'end': 108,\n",
              "   'type': 'programming languages',\n",
              "   'text': 'python'},\n",
              "  {'start': 165, 'end': 167, 'type': 'programming languages', 'text': 'go'}]}"
            ]
          },
          "metadata": {},
          "execution_count": 5
        }
      ],
      "source": [
        "import nlpcloud\n",
        "\n",
        "client = nlpcloud.Client(\"finetuned-gpt-neox-20b\", \"45d5ac738d39d251621d7601d8ff8ddf8ebd5ab9\", gpu=True, lang=\"en\")\n",
        "client.entities(\"\"\"John Doe started learning Javascript when he was 15 years old. After a couple of years he switched to Python and starter learning low level programming. He is now a Go expert at Google.\"\"\", searched_entity=\"programming languages\")"
      ]
    },
    {
      "cell_type": "code",
      "source": [
        "!pip install nlpcloud\n",
        "# https://nlpcloud.com/home/playground/language-detection"
      ],
      "metadata": {
        "colab": {
          "base_uri": "https://localhost:8080/"
        },
        "id": "CL2hOXZTaetd",
        "outputId": "42e0292e-23f7-4287-d80b-b09eb39e2e52"
      },
      "execution_count": 2,
      "outputs": [
        {
          "output_type": "stream",
          "name": "stdout",
          "text": [
            "Collecting nlpcloud\n",
            "  Downloading nlpcloud-1.1.47-py3-none-any.whl.metadata (1.1 kB)\n",
            "Requirement already satisfied: requests in /usr/local/lib/python3.11/dist-packages (from nlpcloud) (2.32.3)\n",
            "Requirement already satisfied: charset-normalizer<4,>=2 in /usr/local/lib/python3.11/dist-packages (from requests->nlpcloud) (3.4.1)\n",
            "Requirement already satisfied: idna<4,>=2.5 in /usr/local/lib/python3.11/dist-packages (from requests->nlpcloud) (3.10)\n",
            "Requirement already satisfied: urllib3<3,>=1.21.1 in /usr/local/lib/python3.11/dist-packages (from requests->nlpcloud) (2.3.0)\n",
            "Requirement already satisfied: certifi>=2017.4.17 in /usr/local/lib/python3.11/dist-packages (from requests->nlpcloud) (2025.1.31)\n",
            "Downloading nlpcloud-1.1.47-py3-none-any.whl (3.9 kB)\n",
            "Installing collected packages: nlpcloud\n",
            "Successfully installed nlpcloud-1.1.47\n"
          ]
        }
      ]
    },
    {
      "cell_type": "code",
      "source": [
        "import nlpcloud\n",
        "\n",
        "client = nlpcloud.Client(\"distilbert-base-uncased-emotion\", \"2b58d7fb9af09e617ee525e78c7766b6d8c5bb61\", gpu=False, lang=\"en\")\n",
        "client.sentiment(\"Look what's just come on the market in #ValThorens! A recently renovated, charming 6 bed duplex apartment in the heart of the resort with superb views!\")"
      ],
      "metadata": {
        "colab": {
          "base_uri": "https://localhost:8080/"
        },
        "id": "Eh8pCCKacc6c",
        "outputId": "a7d7ebed-6625-4732-ecf4-c8d3b3eda2b0"
      },
      "execution_count": 3,
      "outputs": [
        {
          "output_type": "execute_result",
          "data": {
            "text/plain": [
              "{'scored_labels': [{'label': 'joy', 'score': 0.9987751841545105},\n",
              "  {'label': 'love', 'score': 0.00040877042920328677},\n",
              "  {'label': 'surprise', 'score': 0.00039798361831344664},\n",
              "  {'label': 'sadness', 'score': 0.00017779059999156743},\n",
              "  {'label': 'anger', 'score': 0.00012217728362884372},\n",
              "  {'label': 'fear', 'score': 0.0001180991021101363}]}"
            ]
          },
          "metadata": {},
          "execution_count": 3
        }
      ]
    },
    {
      "cell_type": "code",
      "source": [
        "import nlpcloud\n",
        "\n",
        "client = nlpcloud.Client(\"distilbert-base-uncased-emotion\", \"45d5ac738d39d251621d7601d8ff8ddf8ebd5ab9\", gpu=False, lang=\"en\")\n",
        "client.sentiment(\"Look what's just come on the market in #ValThorens! A recently renovated, charming 6 bed duplex apartment in the heart of the resort with superb views!\")"
      ],
      "metadata": {
        "colab": {
          "base_uri": "https://localhost:8080/"
        },
        "id": "qSX7HV1-eT5z",
        "outputId": "39e1c404-5b3d-4793-c8d0-12592e9505df"
      },
      "execution_count": 4,
      "outputs": [
        {
          "output_type": "execute_result",
          "data": {
            "text/plain": [
              "{'scored_labels': [{'label': 'joy', 'score': 0.9987751841545105},\n",
              "  {'label': 'love', 'score': 0.00040877042920328677},\n",
              "  {'label': 'surprise', 'score': 0.00039798361831344664},\n",
              "  {'label': 'sadness', 'score': 0.00017779059999156743},\n",
              "  {'label': 'anger', 'score': 0.00012217728362884372},\n",
              "  {'label': 'fear', 'score': 0.0001180991021101363}]}"
            ]
          },
          "metadata": {},
          "execution_count": 4
        }
      ]
    },
    {
      "cell_type": "code",
      "source": [
        "import nlpcloud\n",
        "\n",
        "client = nlpcloud.Client(\"python-langdetect\", \"45d5ac738d39d251621d7601d8ff8ddf8ebd5ab9\")\n",
        "client.langdetection(\"\"\"Et il parle aussi un peu français.\"\"\")"
      ],
      "metadata": {
        "colab": {
          "base_uri": "https://localhost:8080/"
        },
        "id": "rKX-wN4SenUl",
        "outputId": "9a37560d-b654-4ad5-c803-b543a7a152bd"
      },
      "execution_count": 5,
      "outputs": [
        {
          "output_type": "execute_result",
          "data": {
            "text/plain": [
              "{'languages': [{'fr': 0.9999956436070834}]}"
            ]
          },
          "metadata": {},
          "execution_count": 5
        }
      ]
    },
    {
      "cell_type": "code",
      "source": [
        "import nlpcloud\n",
        "\n",
        "client = nlpcloud.Client(\"finetuned-gpt-neox-20b\", \"45d5ac738d39d251621d7601d8ff8ddf8ebd5ab9\", gpu=True, lang=\"en\")\n",
        "client.entities(\"\"\"John Doe started learning Javascript when he was 15 years old. After a couple of years he switched to Python and starter learning low level programming. He is now a Go expert at Google.\"\"\", searched_entity=\"programming languages\")"
      ],
      "metadata": {
        "id": "wP7SMnHjsjDM",
        "colab": {
          "base_uri": "https://localhost:8080/",
          "height": 444
        },
        "outputId": "f54c250e-6ce9-4d8c-aa8b-918800a8804b"
      },
      "execution_count": null,
      "outputs": [
        {
          "output_type": "error",
          "ename": "HTTPError",
          "evalue": "ignored",
          "traceback": [
            "\u001b[0;31m---------------------------------------------------------------------------\u001b[0m",
            "\u001b[0;31mHTTPError\u001b[0m                                 Traceback (most recent call last)",
            "\u001b[0;32m/usr/local/lib/python3.7/dist-packages/nlpcloud/__init__.py\u001b[0m in \u001b[0;36mentities\u001b[0;34m(self, text, searched_entity)\u001b[0m\n\u001b[1;32m    178\u001b[0m         \u001b[0;32mtry\u001b[0m\u001b[0;34m:\u001b[0m\u001b[0;34m\u001b[0m\u001b[0;34m\u001b[0m\u001b[0m\n\u001b[0;32m--> 179\u001b[0;31m             \u001b[0mr\u001b[0m\u001b[0;34m.\u001b[0m\u001b[0mraise_for_status\u001b[0m\u001b[0;34m(\u001b[0m\u001b[0;34m)\u001b[0m\u001b[0;34m\u001b[0m\u001b[0;34m\u001b[0m\u001b[0m\n\u001b[0m\u001b[1;32m    180\u001b[0m         \u001b[0;32mexcept\u001b[0m \u001b[0mHTTPError\u001b[0m \u001b[0;32mas\u001b[0m \u001b[0merr\u001b[0m\u001b[0;34m:\u001b[0m\u001b[0;34m\u001b[0m\u001b[0;34m\u001b[0m\u001b[0m\n",
            "\u001b[0;32m/usr/local/lib/python3.7/dist-packages/requests/models.py\u001b[0m in \u001b[0;36mraise_for_status\u001b[0;34m(self)\u001b[0m\n\u001b[1;32m    940\u001b[0m         \u001b[0;32mif\u001b[0m \u001b[0mhttp_error_msg\u001b[0m\u001b[0;34m:\u001b[0m\u001b[0;34m\u001b[0m\u001b[0;34m\u001b[0m\u001b[0m\n\u001b[0;32m--> 941\u001b[0;31m             \u001b[0;32mraise\u001b[0m \u001b[0mHTTPError\u001b[0m\u001b[0;34m(\u001b[0m\u001b[0mhttp_error_msg\u001b[0m\u001b[0;34m,\u001b[0m \u001b[0mresponse\u001b[0m\u001b[0;34m=\u001b[0m\u001b[0mself\u001b[0m\u001b[0;34m)\u001b[0m\u001b[0;34m\u001b[0m\u001b[0;34m\u001b[0m\u001b[0m\n\u001b[0m\u001b[1;32m    942\u001b[0m \u001b[0;34m\u001b[0m\u001b[0m\n",
            "\u001b[0;31mHTTPError\u001b[0m: 403 Client Error: Forbidden for url: https://api.nlpcloud.io/v1/gpu/finetuned-gpt-neox-20b/entities",
            "\nDuring handling of the above exception, another exception occurred:\n",
            "\u001b[0;31mHTTPError\u001b[0m                                 Traceback (most recent call last)",
            "\u001b[0;32m<ipython-input-7-a53eea815cda>\u001b[0m in \u001b[0;36m<module>\u001b[0;34m\u001b[0m\n\u001b[1;32m      2\u001b[0m \u001b[0;34m\u001b[0m\u001b[0m\n\u001b[1;32m      3\u001b[0m \u001b[0mclient\u001b[0m \u001b[0;34m=\u001b[0m \u001b[0mnlpcloud\u001b[0m\u001b[0;34m.\u001b[0m\u001b[0mClient\u001b[0m\u001b[0;34m(\u001b[0m\u001b[0;34m\"finetuned-gpt-neox-20b\"\u001b[0m\u001b[0;34m,\u001b[0m \u001b[0;34m\"3126efa8746a8c9a683e757205437143fa015ec5\"\u001b[0m\u001b[0;34m,\u001b[0m \u001b[0mgpu\u001b[0m\u001b[0;34m=\u001b[0m\u001b[0;32mTrue\u001b[0m\u001b[0;34m,\u001b[0m \u001b[0mlang\u001b[0m\u001b[0;34m=\u001b[0m\u001b[0;34m\"en\"\u001b[0m\u001b[0;34m)\u001b[0m\u001b[0;34m\u001b[0m\u001b[0;34m\u001b[0m\u001b[0m\n\u001b[0;32m----> 4\u001b[0;31m \u001b[0mclient\u001b[0m\u001b[0;34m.\u001b[0m\u001b[0mentities\u001b[0m\u001b[0;34m(\u001b[0m\u001b[0;34m\"\"\"John Doe started learning Javascript when he was 15 years old. After a couple of years he switched to Python and starter learning low level programming. He is now a Go expert at Google.\"\"\"\u001b[0m\u001b[0;34m,\u001b[0m \u001b[0msearched_entity\u001b[0m\u001b[0;34m=\u001b[0m\u001b[0;34m\"programming languages\"\u001b[0m\u001b[0;34m)\u001b[0m\u001b[0;34m\u001b[0m\u001b[0;34m\u001b[0m\u001b[0m\n\u001b[0m",
            "\u001b[0;32m/usr/local/lib/python3.7/dist-packages/nlpcloud/__init__.py\u001b[0m in \u001b[0;36mentities\u001b[0;34m(self, text, searched_entity)\u001b[0m\n\u001b[1;32m    182\u001b[0m                 \u001b[0;32mraise\u001b[0m \u001b[0mHTTPError\u001b[0m\u001b[0;34m(\u001b[0m\u001b[0mstr\u001b[0m\u001b[0;34m(\u001b[0m\u001b[0merr\u001b[0m\u001b[0;34m)\u001b[0m\u001b[0;34m)\u001b[0m\u001b[0;34m\u001b[0m\u001b[0;34m\u001b[0m\u001b[0m\n\u001b[1;32m    183\u001b[0m \u001b[0;34m\u001b[0m\u001b[0m\n\u001b[0;32m--> 184\u001b[0;31m             \u001b[0;32mraise\u001b[0m \u001b[0mHTTPError\u001b[0m\u001b[0;34m(\u001b[0m\u001b[0mstr\u001b[0m\u001b[0;34m(\u001b[0m\u001b[0merr\u001b[0m\u001b[0;34m)\u001b[0m \u001b[0;34m+\u001b[0m \u001b[0;34m\": \"\u001b[0m \u001b[0;34m+\u001b[0m \u001b[0mstr\u001b[0m\u001b[0;34m(\u001b[0m\u001b[0mr\u001b[0m\u001b[0;34m.\u001b[0m\u001b[0mtext\u001b[0m\u001b[0;34m)\u001b[0m\u001b[0;34m)\u001b[0m\u001b[0;34m\u001b[0m\u001b[0;34m\u001b[0m\u001b[0m\n\u001b[0m\u001b[1;32m    185\u001b[0m \u001b[0;34m\u001b[0m\u001b[0m\n\u001b[1;32m    186\u001b[0m         \u001b[0;32mreturn\u001b[0m \u001b[0mr\u001b[0m\u001b[0;34m.\u001b[0m\u001b[0mjson\u001b[0m\u001b[0;34m(\u001b[0m\u001b[0;34m)\u001b[0m\u001b[0;34m\u001b[0m\u001b[0;34m\u001b[0m\u001b[0m\n",
            "\u001b[0;31mHTTPError\u001b[0m: 403 Client Error: Forbidden for url: https://api.nlpcloud.io/v1/gpu/finetuned-gpt-neox-20b/entities: "
          ]
        }
      ]
    },
    {
      "cell_type": "code",
      "source": [
        "!pip install nlpcloud"
      ],
      "metadata": {
        "colab": {
          "base_uri": "https://localhost:8080/"
        },
        "id": "8pDcpLaiRcZe",
        "outputId": "0af714b3-7dfc-4a9d-b754-614656a5ad9b"
      },
      "execution_count": null,
      "outputs": [
        {
          "output_type": "stream",
          "name": "stdout",
          "text": [
            "Looking in indexes: https://pypi.org/simple, https://us-python.pkg.dev/colab-wheels/public/simple/\n",
            "Collecting nlpcloud\n",
            "  Downloading nlpcloud-1.0.34-py3-none-any.whl (4.4 kB)\n",
            "Requirement already satisfied: requests in /usr/local/lib/python3.7/dist-packages (from nlpcloud) (2.23.0)\n",
            "Requirement already satisfied: chardet<4,>=3.0.2 in /usr/local/lib/python3.7/dist-packages (from requests->nlpcloud) (3.0.4)\n",
            "Requirement already satisfied: idna<3,>=2.5 in /usr/local/lib/python3.7/dist-packages (from requests->nlpcloud) (2.10)\n",
            "Requirement already satisfied: certifi>=2017.4.17 in /usr/local/lib/python3.7/dist-packages (from requests->nlpcloud) (2022.9.24)\n",
            "Requirement already satisfied: urllib3!=1.25.0,!=1.25.1,<1.26,>=1.21.1 in /usr/local/lib/python3.7/dist-packages (from requests->nlpcloud) (1.24.3)\n",
            "Installing collected packages: nlpcloud\n",
            "Successfully installed nlpcloud-1.0.34\n"
          ]
        }
      ]
    },
    {
      "cell_type": "code",
      "source": [
        "import nlpcloud\n",
        "\n",
        "class NLPApp:\n",
        "\n",
        "  def __init__(self):\n",
        "\n",
        "    self.__database = {}\n",
        "    self.__first_menu()\n",
        "\n",
        "  def __first_menu(self):\n",
        "\n",
        "    first_input = input(\"\"\"\n",
        "    Hi! how would you like to proceed?\n",
        "    1. Not a member? Register\n",
        "    2. Already a member? Login\n",
        "    3. Galti se aa gaye? Exit\n",
        "    \"\"\")\n",
        "\n",
        "    if first_input == '1':\n",
        "      self.__register()\n",
        "    elif first_input == '2':\n",
        "      self.__login()\n",
        "    else:\n",
        "      exit()\n",
        "\n",
        "  def __second_menu(self):\n",
        "\n",
        "    second_input = input(\"\"\"\n",
        "    Hi! how would you like to proceed?\n",
        "    1. NER\n",
        "    2. Language Detection\n",
        "    3. Sentiment Analysis\n",
        "    4. Logout\n",
        "    \"\"\")\n",
        "\n",
        "    if second_input == '1':\n",
        "      self.__ner()\n",
        "    elif second_input == '2':\n",
        "      self.__language_detection()\n",
        "    elif second_input == '3':\n",
        "      self.__sentiment_analysis()\n",
        "    else:\n",
        "      exit()\n",
        "\n",
        "  def __register(self):\n",
        "    name = input('enter name')\n",
        "    email = input('enter email')\n",
        "    password = input('enter password')\n",
        "\n",
        "    if email in self.__database:\n",
        "      print('email already exists')\n",
        "    else:\n",
        "      self.__database[email] = [name,password]\n",
        "      print('registration successful.Now login')\n",
        "      print(self.__database)\n",
        "      self.__first_menu()\n",
        "\n",
        "\n",
        "  def __login(self):\n",
        "\n",
        "    email = input('enter email')\n",
        "    password = input('enter password')\n",
        "\n",
        "    if email in self.__database:\n",
        "      if self.__database[email][1] == password:\n",
        "        print('login successful')\n",
        "        self.__second_menu()\n",
        "      else:\n",
        "        print('wrong password.Try again')\n",
        "        self.__login()\n",
        "    else:\n",
        "      print('This email is not registered')\n",
        "      self.__first_menu()\n",
        "\n",
        "  def __sentiment_analysis(self):\n",
        "    para = input('enter the paragraph')\n",
        "\n",
        "    client = nlpcloud.Client(\"distilbert-base-uncased-emotion\", \"45d5ac738d39d251621d7601d8ff8ddf8ebd5ab9\", gpu=False, lang=\"en\")\n",
        "    response = client.sentiment(para)\n",
        "\n",
        "    L = []\n",
        "    for i in response['scored_labels']:\n",
        "      L.append(i['score'])\n",
        "\n",
        "    index = sorted(list(enumerate(L)),key=lambda x:x[1],reverse=True)[0][0]\n",
        "\n",
        "    print(response['scored_labels'][index]['label'])\n",
        "    self.__second_menu()\n",
        "\n",
        "\n",
        "obj = NLPApp()"
      ],
      "metadata": {
        "colab": {
          "base_uri": "https://localhost:8080/"
        },
        "id": "Rn8VmB6SRr0Y",
        "outputId": "3ae190ce-9900-4df2-ea07-c842b0e57465"
      },
      "execution_count": 6,
      "outputs": [
        {
          "name": "stdout",
          "output_type": "stream",
          "text": [
            "\n",
            "    Hi! how would you like to proceed?\n",
            "    1. Not a member? Register\n",
            "    2. Already a member? Login\n",
            "    3. Galti se aa gaye? Exit\n",
            "    3\n"
          ]
        }
      ]
    },
    {
      "cell_type": "code",
      "source": [
        "d = {'scored_labels': [{'label': 'sadness', 'score': 0.98093181848526}, {'label': 'joy', 'score': 0.001407247269526124}, {'label': 'love', 'score': 0.0004157320945523679}, {'label': 'anger', 'score': 0.01649504341185093}, {'label': 'fear', 'score': 0.00039679379551671445}, {'label': 'surprise', 'score': 0.00035347335506230593}]}"
      ],
      "metadata": {
        "id": "hWmZ7wZUVQ47"
      },
      "execution_count": null,
      "outputs": []
    },
    {
      "cell_type": "code",
      "source": [
        "d"
      ],
      "metadata": {
        "colab": {
          "base_uri": "https://localhost:8080/"
        },
        "id": "qYmEuEGKivAe",
        "outputId": "5ac1320b-f73a-4a55-8105-c720d7f21e07"
      },
      "execution_count": null,
      "outputs": [
        {
          "output_type": "execute_result",
          "data": {
            "text/plain": [
              "{'scored_labels': [{'label': 'sadness', 'score': 0.98093181848526},\n",
              "  {'label': 'joy', 'score': 0.001407247269526124},\n",
              "  {'label': 'love', 'score': 0.0004157320945523679},\n",
              "  {'label': 'anger', 'score': 0.01649504341185093},\n",
              "  {'label': 'fear', 'score': 0.00039679379551671445},\n",
              "  {'label': 'surprise', 'score': 0.00035347335506230593}]}"
            ]
          },
          "metadata": {},
          "execution_count": 3
        }
      ]
    },
    {
      "cell_type": "code",
      "source": [
        "L = []\n",
        "for i in d['scored_labels']:\n",
        "  L.append(i['score'])\n",
        "\n",
        "index = sorted(list(enumerate(L)),key=lambda x:x[1],reverse=True)[0][0]"
      ],
      "metadata": {
        "id": "o7hlyFJHgJLN"
      },
      "execution_count": null,
      "outputs": []
    },
    {
      "cell_type": "code",
      "source": [
        "d['scored_labels'][index]['label']"
      ],
      "metadata": {
        "colab": {
          "base_uri": "https://localhost:8080/",
          "height": 36
        },
        "id": "pRENu1UFgJho",
        "outputId": "bc37efe1-68e4-47ab-807c-e29b1b4c7f9e"
      },
      "execution_count": null,
      "outputs": [
        {
          "output_type": "execute_result",
          "data": {
            "text/plain": [
              "'sadness'"
            ],
            "application/vnd.google.colaboratory.intrinsic+json": {
              "type": "string"
            }
          },
          "metadata": {},
          "execution_count": 38
        }
      ]
    },
    {
      "cell_type": "code",
      "source": [
        "import emoji\n",
        "print(emoji.emojize('Python is :grinning_face:'))"
      ],
      "metadata": {
        "colab": {
          "base_uri": "https://localhost:8080/"
        },
        "id": "HYyIx6FNg75G",
        "outputId": "6af9b4d8-7625-43c9-d7e2-adda70fe5c06"
      },
      "execution_count": null,
      "outputs": [
        {
          "output_type": "stream",
          "name": "stdout",
          "text": [
            "Python is 😀\n"
          ]
        }
      ]
    },
    {
      "cell_type": "code",
      "source": [
        "!pip install emoji"
      ],
      "metadata": {
        "colab": {
          "base_uri": "https://localhost:8080/"
        },
        "id": "bUV4FO4AkZeq",
        "outputId": "ad09e99e-301e-4b77-fd93-d667bc3964fb"
      },
      "execution_count": null,
      "outputs": [
        {
          "output_type": "stream",
          "name": "stdout",
          "text": [
            "Looking in indexes: https://pypi.org/simple, https://us-python.pkg.dev/colab-wheels/public/simple/\n",
            "Collecting emoji\n",
            "  Downloading emoji-2.2.0.tar.gz (240 kB)\n",
            "\u001b[K     |████████████████████████████████| 240 kB 15.2 MB/s \n",
            "\u001b[?25hBuilding wheels for collected packages: emoji\n",
            "  Building wheel for emoji (setup.py) ... \u001b[?25l\u001b[?25hdone\n",
            "  Created wheel for emoji: filename=emoji-2.2.0-py3-none-any.whl size=234926 sha256=41b6c4bb33328577a544347fe1c0258b19e2bac46989d0bb233c97ed1d66de05\n",
            "  Stored in directory: /root/.cache/pip/wheels/f3/e3/f2/1de1c2e3ed742e1df73e0f15d58864e50c7e64f607b548d6cf\n",
            "Successfully built emoji\n",
            "Installing collected packages: emoji\n",
            "Successfully installed emoji-2.2.0\n"
          ]
        }
      ]
    },
    {
      "cell_type": "code",
      "source": [],
      "metadata": {
        "id": "TZzeYoSBkcQB"
      },
      "execution_count": null,
      "outputs": []
    }
  ]
}